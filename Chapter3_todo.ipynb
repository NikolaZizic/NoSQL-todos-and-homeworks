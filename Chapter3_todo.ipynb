import py2neo

#todo 1

query = """MATCH (a:Superhero)-[r:RELATION]-(b:Superhero) 
WHERE a.Speed > 90 AND b.Speed > 90
RETURN a.name,r.n_collab, b.name"""



#todo 2
query = """MATCH (a:Superhero)-[r:RELATION]-(b:Superhero) 
WHERE a.Speed > 83 AND b.Speed > 83 AND r.n_collab > 10
RETURN a.name,r.n_collab, b.name"""

#todo 3

query = """MATCH (a:Superhero)-[r:RELATION]-(b:Superhero) 
WHERE a.Total < 10 AND b.Total > 500 
RETURN a.name,r.n_collab, b.name"""

#todo 4

query = """MATCH (a:Superhero)-[r:RELATION]-(b:Superhero) 
WHERE a.Strenght < 10 AND b.Intelligence > 90 AND r.n_collab > 10
RETURN a.name,r.n_collab, b.name"""

#todo 5

graph = py2neo.Graph("bolt://localhost:7687", auth=("neo4j", ""), name="master")

Person1 = py2neo.Node("Person", name="Nikola Zizic", age = 23) 
Person2 = py2neo.Node("Person", name="Andrija Lucic", age = 22)
Person3 = py2neo.Node("Person", name="Corentin Lobet", age = 21)
Person4 = py2neo.Node("Person", name="Aristote Mutombo", age = 25)
Person5 = py2neo.Node("Person", name="Moezzibadi Mohammad", age = 27)
Person6 = py2neo.Node("Person", name="Ramil Yasser", age = 27)
Person7 = py2neo.Node("Person", name="Wu Chenyin", age = 24)
Person8 = py2neo.Node("Person", name="Atuya Papa", age = 27)
Person9 = py2neo.Node("Person", name="Guillaume Burdloff", age = 27)

ab = py2neo.Relationship(Person1, "COLLABORATED", Person2, n_collab = 1)
ac = py2neo.Relationship(Person1, "COLLABORATED", Person3, n_collab = 1)
ba = py2neo.Relationship(Person2, "COLLABORATED", Person1, n_collab = 1)
bc = py2neo.Relationship(Person2, "COLLABORATED", Person3, n_collab = 1)
ca = py2neo.Relationship(Person3, "COLLABORATED", Person1, n_collab = 1)
cb = py2neo.Relationship(Person3, "COLLABORATED", Person2, n_collab = 1)

transaction = graph.begin()
transaction.create(Person1|Person2|Person3|Person4|Person5|Person6|Person7|Person8|Person9)
transaction.create(ab)
transaction.create(ba)
transaction.create(bc)
transaction.create(cb)
transaction.create(ac)
transaction.create(ca)
transaction.commit()

#todo 6

# I didn't know how to do this

#todo 7

query ="""MATCH (a:Person)-[r:COLLABORATED]-(b:Person) 
          WHERE a.name= "Nikola Zizic" 
          RETURN a.name,r.n_collab, b.name"""
          
#todo 8
query = """MATCH (n) WHERE n.age >25 
RETURN DISTINCT n.name as entity, n.age AS age LIMIT 9 UNION ALL MATCH ()-[r]-() 
WHERE EXISTS(r.age) RETURN DISTINCT "relationship" AS entity, r.age AS age LIMIT 9"""

# todo 9,10,11
# I was unable to find how to insert the MongoDB collection into Neo4j


