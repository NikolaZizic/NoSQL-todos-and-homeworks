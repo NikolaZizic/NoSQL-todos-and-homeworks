{
 "cells": [
  {
   "cell_type": "markdown",
   "metadata": {},
   "source": [
    "### Todo 1 "
   ]
  },
  {
   "cell_type": "code",
   "execution_count": null,
   "metadata": {},
   "outputs": [],
   "source": [
    "query = \"\"\"MATCH (a:Superhero)-[r:RELATION]-(b:Superhero) \n",
    "WHERE a.Speed > 90 AND b.Speed > 90\n",
    "RETURN a.name,r.n_collab, b.name\"\"\"\n"
   ]
  },
  {
   "cell_type": "markdown",
   "metadata": {},
   "source": [
    "### Todo 2"
   ]
  },
  {
   "cell_type": "code",
   "execution_count": null,
   "metadata": {},
   "outputs": [],
   "source": [
    "query = \"\"\"MATCH (a:Superhero)-[r:RELATION]-(b:Superhero) \n",
    "WHERE a.Speed > 83 AND b.Speed > 83 AND r.n_collab > 10\n",
    "RETURN a.name,r.n_collab, b.name\"\"\""
   ]
  },
  {
   "cell_type": "markdown",
   "metadata": {},
   "source": [
    "### Todo 3 "
   ]
  },
  {
   "cell_type": "code",
   "execution_count": null,
   "metadata": {},
   "outputs": [],
   "source": [
    "query = \"\"\"MATCH (a:Superhero)-[r:RELATION]-(b:Superhero) \n",
    "WHERE a.Total < 10 AND b.Total > 500 \n",
    "RETURN a.name,r.n_collab, b.name\"\"\""
   ]
  },
  {
   "cell_type": "markdown",
   "metadata": {},
   "source": [
    "### Todo 4"
   ]
  },
  {
   "cell_type": "code",
   "execution_count": null,
   "metadata": {},
   "outputs": [],
   "source": [
    "query = \"\"\"MATCH (a:Superhero)-[r:RELATION]-(b:Superhero) \n",
    "WHERE a.Strenght < 10 AND b.Intelligence > 90 AND r.n_collab > 10\n",
    "RETURN a.name,r.n_collab, b.name\"\"\""
   ]
  },
  {
   "cell_type": "markdown",
   "metadata": {},
   "source": [
    "### Todo 5"
   ]
  },
  {
   "cell_type": "code",
   "execution_count": null,
   "metadata": {},
   "outputs": [],
   "source": [
    "graph = py2neo.Graph(\"bolt://localhost:7687\", auth=(\"neo4j\", \"\"), name=\"master\")\n",
    "\n",
    "Person1 = py2neo.Node(\"Person\", name=\"Nikola Zizic\", age = 23) \n",
    "Person2 = py2neo.Node(\"Person\", name=\"Andrija Lucic\", age = 22)\n",
    "Person3 = py2neo.Node(\"Person\", name=\"Corentin Lobet\", age = 21)\n",
    "Person4 = py2neo.Node(\"Person\", name=\"Aristote Mutombo\", age = 25)\n",
    "Person5 = py2neo.Node(\"Person\", name=\"Moezzibadi Mohammad\", age = 27)\n",
    "Person6 = py2neo.Node(\"Person\", name=\"Ramil Yasser\", age = 27)\n",
    "Person7 = py2neo.Node(\"Person\", name=\"Wu Chenyin\", age = 24)\n",
    "Person8 = py2neo.Node(\"Person\", name=\"Atuya Papa\", age = 27)\n",
    "Person9 = py2neo.Node(\"Person\", name=\"Guillaume Burdloff\", age = 27)\n",
    "\n",
    "ab = py2neo.Relationship(Person1, \"COLLABORATED\", Person2, n_collab = 1)\n",
    "ac = py2neo.Relationship(Person1, \"COLLABORATED\", Person3, n_collab = 1)\n",
    "ba = py2neo.Relationship(Person2, \"COLLABORATED\", Person1, n_collab = 1)\n",
    "bc = py2neo.Relationship(Person2, \"COLLABORATED\", Person3, n_collab = 1)\n",
    "ca = py2neo.Relationship(Person3, \"COLLABORATED\", Person1, n_collab = 1)\n",
    "cb = py2neo.Relationship(Person3, \"COLLABORATED\", Person2, n_collab = 1)\n",
    "\n",
    "transaction = graph.begin()\n",
    "transaction.create(Person1|Person2|Person3|Person4|Person5|Person6|Person7|Person8|Person9)\n",
    "transaction.create(ab)\n",
    "transaction.create(ba)\n",
    "transaction.create(bc)\n",
    "transaction.create(cb)\n",
    "transaction.create(ac)\n",
    "transaction.create(ca)\n",
    "transaction.commit()"
   ]
  },
  {
   "cell_type": "markdown",
   "metadata": {},
   "source": [
    "### Todo 6"
   ]
  },
  {
   "cell_type": "code",
   "execution_count": null,
   "metadata": {},
   "outputs": [],
   "source": [
    "#I didn't know how to do this"
   ]
  },
  {
   "cell_type": "markdown",
   "metadata": {},
   "source": [
    "### Todo 7"
   ]
  },
  {
   "cell_type": "code",
   "execution_count": null,
   "metadata": {},
   "outputs": [],
   "source": [
    "query =\"\"\"MATCH (a:Person)-[r:COLLABORATED]-(b:Person) \n",
    "          WHERE a.name= \"Nikola Zizic\" \n",
    "          RETURN a.name,r.n_collab, b.name\"\"\""
   ]
  },
  {
   "cell_type": "markdown",
   "metadata": {},
   "source": [
    "### Todo 8"
   ]
  },
  {
   "cell_type": "code",
   "execution_count": null,
   "metadata": {},
   "outputs": [],
   "source": [
    "query = \"\"\"MATCH (n) WHERE n.age >25 \n",
    "RETURN DISTINCT n.name as entity, n.age AS age LIMIT 9 UNION ALL MATCH ()-[r]-() \n",
    "WHERE EXISTS(r.age) RETURN DISTINCT \"relationship\" AS entity, r.age AS age LIMIT 9\"\"\""
   ]
  },
  {
   "cell_type": "markdown",
   "metadata": {},
   "source": [
    "### Todo 9"
   ]
  },
  {
   "cell_type": "code",
   "execution_count": null,
   "metadata": {},
   "outputs": [],
   "source": [
    "# I was unable to find how to insert the MongoDB collection into Neo4j"
   ]
  }
 ],
 "metadata": {
  "kernelspec": {
   "display_name": "Python 3",
   "language": "python",
   "name": "python3"
  },
  "language_info": {
   "codemirror_mode": {
    "name": "ipython",
    "version": 3
   },
   "file_extension": ".py",
   "mimetype": "text/x-python",
   "name": "python",
   "nbconvert_exporter": "python",
   "pygments_lexer": "ipython3",
   "version": "3.8.5"
  }
 },
 "nbformat": 4,
 "nbformat_minor": 4
}
